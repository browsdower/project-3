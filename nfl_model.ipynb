{
 "cells": [
  {
   "cell_type": "code",
   "execution_count": 25,
   "metadata": {},
   "outputs": [],
   "source": [
    "# Set the seed value for the notebook so the results are reproducible\n",
    "from numpy.random import seed\n",
    "seed(1)"
   ]
  },
  {
   "cell_type": "code",
   "execution_count": 26,
   "metadata": {
    "slideshow": {
     "slide_type": "subslide"
    }
   },
   "outputs": [],
   "source": [
    "# Dependencies\n",
    "import numpy as np\n",
    "import pandas as pd"
   ]
  },
  {
   "cell_type": "code",
   "execution_count": 27,
   "metadata": {},
   "outputs": [
    {
     "data": {
      "text/plain": [
       "'2.2.4-tf'"
      ]
     },
     "execution_count": 27,
     "metadata": {},
     "output_type": "execute_result"
    }
   ],
   "source": [
    "import tensorflow\n",
    "tensorflow.keras.__version__"
   ]
  },
  {
   "cell_type": "code",
   "execution_count": 28,
   "metadata": {
    "slideshow": {
     "slide_type": "fragment"
    }
   },
   "outputs": [
    {
     "data": {
      "text/html": [
       "<div>\n",
       "<style scoped>\n",
       "    .dataframe tbody tr th:only-of-type {\n",
       "        vertical-align: middle;\n",
       "    }\n",
       "\n",
       "    .dataframe tbody tr th {\n",
       "        vertical-align: top;\n",
       "    }\n",
       "\n",
       "    .dataframe thead th {\n",
       "        text-align: right;\n",
       "    }\n",
       "</style>\n",
       "<table border=\"1\" class=\"dataframe\">\n",
       "  <thead>\n",
       "    <tr style=\"text-align: right;\">\n",
       "      <th></th>\n",
       "      <th>game_id</th>\n",
       "      <th>Home or Away</th>\n",
       "      <th>Total EPA</th>\n",
       "      <th>Total Yards Gained</th>\n",
       "      <th>Air Yards</th>\n",
       "      <th>Turnovers</th>\n",
       "      <th>Total Rush Attempts</th>\n",
       "      <th>Total Pass Attempts</th>\n",
       "      <th>total_away_score</th>\n",
       "      <th>total_home_score</th>\n",
       "      <th>Winning Team</th>\n",
       "    </tr>\n",
       "  </thead>\n",
       "  <tbody>\n",
       "    <tr>\n",
       "      <th>0</th>\n",
       "      <td>2019090500</td>\n",
       "      <td>0</td>\n",
       "      <td>-8.426707</td>\n",
       "      <td>213</td>\n",
       "      <td>300</td>\n",
       "      <td>0</td>\n",
       "      <td>22</td>\n",
       "      <td>35</td>\n",
       "      <td>10</td>\n",
       "      <td>3</td>\n",
       "      <td>1</td>\n",
       "    </tr>\n",
       "    <tr>\n",
       "      <th>1</th>\n",
       "      <td>2019090500</td>\n",
       "      <td>1</td>\n",
       "      <td>-15.393375</td>\n",
       "      <td>254</td>\n",
       "      <td>378</td>\n",
       "      <td>1</td>\n",
       "      <td>15</td>\n",
       "      <td>50</td>\n",
       "      <td>10</td>\n",
       "      <td>3</td>\n",
       "      <td>0</td>\n",
       "    </tr>\n",
       "    <tr>\n",
       "      <th>2</th>\n",
       "      <td>2019090800</td>\n",
       "      <td>1</td>\n",
       "      <td>-5.666050</td>\n",
       "      <td>343</td>\n",
       "      <td>238</td>\n",
       "      <td>3</td>\n",
       "      <td>23</td>\n",
       "      <td>41</td>\n",
       "      <td>30</td>\n",
       "      <td>27</td>\n",
       "      <td>0</td>\n",
       "    </tr>\n",
       "    <tr>\n",
       "      <th>3</th>\n",
       "      <td>2019090800</td>\n",
       "      <td>0</td>\n",
       "      <td>-1.271742</td>\n",
       "      <td>349</td>\n",
       "      <td>273</td>\n",
       "      <td>1</td>\n",
       "      <td>32</td>\n",
       "      <td>40</td>\n",
       "      <td>30</td>\n",
       "      <td>27</td>\n",
       "      <td>1</td>\n",
       "    </tr>\n",
       "    <tr>\n",
       "      <th>4</th>\n",
       "      <td>2019090801</td>\n",
       "      <td>0</td>\n",
       "      <td>8.225944</td>\n",
       "      <td>339</td>\n",
       "      <td>145</td>\n",
       "      <td>0</td>\n",
       "      <td>28</td>\n",
       "      <td>28</td>\n",
       "      <td>43</td>\n",
       "      <td>13</td>\n",
       "      <td>1</td>\n",
       "    </tr>\n",
       "  </tbody>\n",
       "</table>\n",
       "</div>"
      ],
      "text/plain": [
       "      game_id  Home or Away  Total EPA  Total Yards Gained  Air Yards  \\\n",
       "0  2019090500             0  -8.426707                 213        300   \n",
       "1  2019090500             1 -15.393375                 254        378   \n",
       "2  2019090800             1  -5.666050                 343        238   \n",
       "3  2019090800             0  -1.271742                 349        273   \n",
       "4  2019090801             0   8.225944                 339        145   \n",
       "\n",
       "   Turnovers  Total Rush Attempts  Total Pass Attempts  total_away_score  \\\n",
       "0          0                   22                   35                10   \n",
       "1          1                   15                   50                10   \n",
       "2          3                   23                   41                30   \n",
       "3          1                   32                   40                30   \n",
       "4          0                   28                   28                43   \n",
       "\n",
       "   total_home_score  Winning Team  \n",
       "0                 3             1  \n",
       "1                 3             0  \n",
       "2                27             0  \n",
       "3                27             1  \n",
       "4                13             1  "
      ]
     },
     "execution_count": 28,
     "metadata": {},
     "output_type": "execute_result"
    }
   ],
   "source": [
    "# read in nfl data\n",
    "train = pd.read_csv('nfl_data2.csv')\n",
    "train.head()"
   ]
  },
  {
   "cell_type": "markdown",
   "metadata": {
    "slideshow": {
     "slide_type": "subslide"
    }
   },
   "source": [
    "## Data Pre-Processing"
   ]
  },
  {
   "cell_type": "code",
   "execution_count": 51,
   "metadata": {
    "nbgrader": {
     "grade": false,
     "grade_id": "cell-86a9e3212f200d21",
     "locked": false,
     "schema_version": 1,
     "solution": true
    },
    "slideshow": {
     "slide_type": "subslide"
    }
   },
   "outputs": [
    {
     "name": "stdout",
     "output_type": "stream",
     "text": [
      "(512, 7) (512,)\n"
     ]
    }
   ],
   "source": [
    "# maybe drop winner column?\n",
    "X = voice.drop([\"Winning Team\", \"game_id\", \"total_away_score\", \"total_home_score\"], axis=1)\n",
    "\n",
    "# who won the game \n",
    "y = voice[\"Winning Team\"]\n",
    "print(X.shape, y.shape)"
   ]
  },
  {
   "cell_type": "code",
   "execution_count": 52,
   "metadata": {
    "nbgrader": {
     "grade": false,
     "grade_id": "cell-711a82d9b32c83ff",
     "locked": false,
     "schema_version": 1,
     "solution": true
    },
    "slideshow": {
     "slide_type": "fragment"
    }
   },
   "outputs": [],
   "source": [
    "from sklearn.model_selection import train_test_split\n",
    "from sklearn.preprocessing import LabelEncoder, MinMaxScaler\n",
    "from tensorflow.keras.utils import to_categorical"
   ]
  },
  {
   "cell_type": "code",
   "execution_count": 53,
   "metadata": {
    "nbgrader": {
     "grade": false,
     "grade_id": "cell-711a82d9b32c83ff",
     "locked": false,
     "schema_version": 1,
     "solution": true
    },
    "slideshow": {
     "slide_type": "fragment"
    }
   },
   "outputs": [],
   "source": [
    "X_train, X_test, y_train, y_test = train_test_split(\n",
    "    X, y, random_state=1, stratify=y)"
   ]
  },
  {
   "cell_type": "code",
   "execution_count": 54,
   "metadata": {
    "nbgrader": {
     "grade": false,
     "grade_id": "cell-711a82d9b32c83ff",
     "locked": false,
     "schema_version": 1,
     "solution": true
    },
    "scrolled": true,
    "slideshow": {
     "slide_type": "fragment"
    }
   },
   "outputs": [],
   "source": [
    "X_scaler = MinMaxScaler().fit(X_train)\n",
    "X_train_scaled = X_scaler.transform(X_train)\n",
    "X_test_scaled = X_scaler.transform(X_test)\n"
   ]
  },
  {
   "cell_type": "code",
   "execution_count": 55,
   "metadata": {
    "nbgrader": {
     "grade": false,
     "grade_id": "cell-711a82d9b32c83ff",
     "locked": false,
     "schema_version": 1,
     "solution": true
    },
    "slideshow": {
     "slide_type": "fragment"
    }
   },
   "outputs": [],
   "source": [
    "# # Step 1: Label-encode data set # skipping because our data is numbers, but we will use this when we make winning team home or away.\n",
    "# label_encoder = LabelEncoder()\n",
    "# label_encoder.fit(y_train)\n",
    "# encoded_y_train = label_encoder.transform(y_train)\n",
    "# encoded_y_test = label_encoder.transform(y_test)"
   ]
  },
  {
   "cell_type": "code",
   "execution_count": 56,
   "metadata": {
    "nbgrader": {
     "grade": false,
     "grade_id": "cell-711a82d9b32c83ff",
     "locked": false,
     "schema_version": 1,
     "solution": true
    },
    "slideshow": {
     "slide_type": "fragment"
    }
   },
   "outputs": [
    {
     "data": {
      "text/plain": [
       "array([[0., 1.],\n",
       "       [0., 1.],\n",
       "       [1., 0.],\n",
       "       [0., 1.],\n",
       "       [1., 0.],\n",
       "       [1., 0.],\n",
       "       [0., 1.],\n",
       "       [0., 1.],\n",
       "       [1., 0.],\n",
       "       [0., 1.],\n",
       "       [0., 1.],\n",
       "       [1., 0.],\n",
       "       [1., 0.],\n",
       "       [1., 0.],\n",
       "       [0., 1.],\n",
       "       [0., 1.],\n",
       "       [1., 0.],\n",
       "       [0., 1.],\n",
       "       [0., 1.],\n",
       "       [0., 1.],\n",
       "       [1., 0.],\n",
       "       [0., 1.],\n",
       "       [0., 1.],\n",
       "       [1., 0.],\n",
       "       [0., 1.],\n",
       "       [0., 1.],\n",
       "       [0., 1.],\n",
       "       [0., 1.],\n",
       "       [0., 1.],\n",
       "       [0., 1.],\n",
       "       [1., 0.],\n",
       "       [1., 0.],\n",
       "       [0., 1.],\n",
       "       [0., 1.],\n",
       "       [0., 1.],\n",
       "       [1., 0.],\n",
       "       [0., 1.],\n",
       "       [0., 1.],\n",
       "       [1., 0.],\n",
       "       [0., 1.],\n",
       "       [1., 0.],\n",
       "       [0., 1.],\n",
       "       [1., 0.],\n",
       "       [0., 1.],\n",
       "       [1., 0.],\n",
       "       [1., 0.],\n",
       "       [0., 1.],\n",
       "       [1., 0.],\n",
       "       [1., 0.],\n",
       "       [1., 0.],\n",
       "       [0., 1.],\n",
       "       [1., 0.],\n",
       "       [0., 1.],\n",
       "       [0., 1.],\n",
       "       [1., 0.],\n",
       "       [0., 1.],\n",
       "       [0., 1.],\n",
       "       [1., 0.],\n",
       "       [1., 0.],\n",
       "       [0., 1.],\n",
       "       [0., 1.],\n",
       "       [1., 0.],\n",
       "       [0., 1.],\n",
       "       [1., 0.],\n",
       "       [1., 0.],\n",
       "       [0., 1.],\n",
       "       [1., 0.],\n",
       "       [1., 0.],\n",
       "       [0., 1.],\n",
       "       [0., 1.],\n",
       "       [0., 1.],\n",
       "       [0., 1.],\n",
       "       [0., 1.],\n",
       "       [0., 1.],\n",
       "       [1., 0.],\n",
       "       [1., 0.],\n",
       "       [0., 1.],\n",
       "       [0., 1.],\n",
       "       [1., 0.],\n",
       "       [0., 1.],\n",
       "       [1., 0.],\n",
       "       [0., 1.],\n",
       "       [0., 1.],\n",
       "       [1., 0.],\n",
       "       [1., 0.],\n",
       "       [0., 1.],\n",
       "       [0., 1.],\n",
       "       [1., 0.],\n",
       "       [1., 0.],\n",
       "       [0., 1.],\n",
       "       [1., 0.],\n",
       "       [0., 1.],\n",
       "       [0., 1.],\n",
       "       [0., 1.],\n",
       "       [0., 1.],\n",
       "       [1., 0.],\n",
       "       [1., 0.],\n",
       "       [0., 1.],\n",
       "       [1., 0.],\n",
       "       [1., 0.],\n",
       "       [0., 1.],\n",
       "       [1., 0.],\n",
       "       [0., 1.],\n",
       "       [1., 0.],\n",
       "       [1., 0.],\n",
       "       [0., 1.],\n",
       "       [0., 1.],\n",
       "       [1., 0.],\n",
       "       [1., 0.],\n",
       "       [0., 1.],\n",
       "       [1., 0.],\n",
       "       [1., 0.],\n",
       "       [0., 1.],\n",
       "       [1., 0.],\n",
       "       [0., 1.],\n",
       "       [0., 1.],\n",
       "       [1., 0.],\n",
       "       [0., 1.],\n",
       "       [1., 0.],\n",
       "       [1., 0.],\n",
       "       [0., 1.],\n",
       "       [1., 0.],\n",
       "       [0., 1.],\n",
       "       [0., 1.],\n",
       "       [1., 0.],\n",
       "       [1., 0.],\n",
       "       [0., 1.],\n",
       "       [1., 0.],\n",
       "       [1., 0.],\n",
       "       [1., 0.],\n",
       "       [1., 0.],\n",
       "       [0., 1.],\n",
       "       [0., 1.],\n",
       "       [0., 1.],\n",
       "       [1., 0.],\n",
       "       [1., 0.],\n",
       "       [0., 1.],\n",
       "       [0., 1.],\n",
       "       [1., 0.],\n",
       "       [1., 0.],\n",
       "       [0., 1.],\n",
       "       [1., 0.],\n",
       "       [1., 0.],\n",
       "       [0., 1.],\n",
       "       [1., 0.],\n",
       "       [1., 0.],\n",
       "       [1., 0.],\n",
       "       [0., 1.],\n",
       "       [1., 0.],\n",
       "       [1., 0.],\n",
       "       [1., 0.],\n",
       "       [0., 1.],\n",
       "       [1., 0.],\n",
       "       [0., 1.],\n",
       "       [0., 1.],\n",
       "       [1., 0.],\n",
       "       [1., 0.],\n",
       "       [1., 0.],\n",
       "       [0., 1.],\n",
       "       [0., 1.],\n",
       "       [0., 1.],\n",
       "       [1., 0.],\n",
       "       [1., 0.],\n",
       "       [1., 0.],\n",
       "       [0., 1.],\n",
       "       [1., 0.],\n",
       "       [0., 1.],\n",
       "       [1., 0.],\n",
       "       [1., 0.],\n",
       "       [1., 0.],\n",
       "       [0., 1.],\n",
       "       [0., 1.],\n",
       "       [0., 1.],\n",
       "       [1., 0.],\n",
       "       [0., 1.],\n",
       "       [1., 0.],\n",
       "       [0., 1.],\n",
       "       [1., 0.],\n",
       "       [0., 1.],\n",
       "       [1., 0.],\n",
       "       [0., 1.],\n",
       "       [0., 1.],\n",
       "       [0., 1.],\n",
       "       [0., 1.],\n",
       "       [0., 1.],\n",
       "       [1., 0.],\n",
       "       [0., 1.],\n",
       "       [0., 1.],\n",
       "       [1., 0.],\n",
       "       [1., 0.],\n",
       "       [1., 0.],\n",
       "       [1., 0.],\n",
       "       [1., 0.],\n",
       "       [1., 0.],\n",
       "       [0., 1.],\n",
       "       [0., 1.],\n",
       "       [0., 1.],\n",
       "       [1., 0.],\n",
       "       [0., 1.],\n",
       "       [1., 0.],\n",
       "       [0., 1.],\n",
       "       [0., 1.],\n",
       "       [1., 0.],\n",
       "       [1., 0.],\n",
       "       [1., 0.],\n",
       "       [0., 1.],\n",
       "       [0., 1.],\n",
       "       [0., 1.],\n",
       "       [1., 0.],\n",
       "       [0., 1.],\n",
       "       [0., 1.],\n",
       "       [0., 1.],\n",
       "       [0., 1.],\n",
       "       [1., 0.],\n",
       "       [1., 0.],\n",
       "       [0., 1.],\n",
       "       [0., 1.],\n",
       "       [1., 0.],\n",
       "       [1., 0.],\n",
       "       [0., 1.],\n",
       "       [1., 0.],\n",
       "       [1., 0.],\n",
       "       [1., 0.],\n",
       "       [1., 0.],\n",
       "       [1., 0.],\n",
       "       [1., 0.],\n",
       "       [1., 0.],\n",
       "       [0., 1.],\n",
       "       [1., 0.],\n",
       "       [0., 1.],\n",
       "       [0., 1.],\n",
       "       [0., 1.],\n",
       "       [1., 0.],\n",
       "       [1., 0.],\n",
       "       [1., 0.],\n",
       "       [1., 0.],\n",
       "       [0., 1.],\n",
       "       [0., 1.],\n",
       "       [1., 0.],\n",
       "       [0., 1.],\n",
       "       [0., 1.],\n",
       "       [1., 0.],\n",
       "       [0., 1.],\n",
       "       [0., 1.],\n",
       "       [1., 0.],\n",
       "       [0., 1.],\n",
       "       [1., 0.],\n",
       "       [0., 1.],\n",
       "       [1., 0.],\n",
       "       [0., 1.],\n",
       "       [1., 0.],\n",
       "       [1., 0.],\n",
       "       [0., 1.],\n",
       "       [1., 0.],\n",
       "       [0., 1.],\n",
       "       [1., 0.],\n",
       "       [1., 0.],\n",
       "       [0., 1.],\n",
       "       [1., 0.],\n",
       "       [0., 1.],\n",
       "       [0., 1.],\n",
       "       [1., 0.],\n",
       "       [1., 0.],\n",
       "       [0., 1.],\n",
       "       [1., 0.],\n",
       "       [1., 0.],\n",
       "       [0., 1.],\n",
       "       [1., 0.],\n",
       "       [1., 0.],\n",
       "       [0., 1.],\n",
       "       [1., 0.],\n",
       "       [0., 1.],\n",
       "       [0., 1.],\n",
       "       [0., 1.],\n",
       "       [1., 0.],\n",
       "       [1., 0.],\n",
       "       [1., 0.],\n",
       "       [0., 1.],\n",
       "       [1., 0.],\n",
       "       [0., 1.],\n",
       "       [1., 0.],\n",
       "       [0., 1.],\n",
       "       [1., 0.],\n",
       "       [0., 1.],\n",
       "       [0., 1.],\n",
       "       [1., 0.],\n",
       "       [0., 1.],\n",
       "       [1., 0.],\n",
       "       [1., 0.],\n",
       "       [1., 0.],\n",
       "       [1., 0.],\n",
       "       [0., 1.],\n",
       "       [0., 1.],\n",
       "       [1., 0.],\n",
       "       [0., 1.],\n",
       "       [1., 0.],\n",
       "       [1., 0.],\n",
       "       [1., 0.],\n",
       "       [1., 0.],\n",
       "       [0., 1.],\n",
       "       [1., 0.],\n",
       "       [0., 1.],\n",
       "       [0., 1.],\n",
       "       [1., 0.],\n",
       "       [0., 1.],\n",
       "       [1., 0.],\n",
       "       [0., 1.],\n",
       "       [1., 0.],\n",
       "       [1., 0.],\n",
       "       [0., 1.],\n",
       "       [0., 1.],\n",
       "       [0., 1.],\n",
       "       [0., 1.],\n",
       "       [0., 1.],\n",
       "       [0., 1.],\n",
       "       [0., 1.],\n",
       "       [1., 0.],\n",
       "       [0., 1.],\n",
       "       [0., 1.],\n",
       "       [0., 1.],\n",
       "       [1., 0.],\n",
       "       [0., 1.],\n",
       "       [0., 1.],\n",
       "       [1., 0.],\n",
       "       [0., 1.],\n",
       "       [0., 1.],\n",
       "       [1., 0.],\n",
       "       [1., 0.],\n",
       "       [0., 1.],\n",
       "       [1., 0.],\n",
       "       [0., 1.],\n",
       "       [1., 0.],\n",
       "       [0., 1.],\n",
       "       [1., 0.],\n",
       "       [0., 1.],\n",
       "       [1., 0.],\n",
       "       [1., 0.],\n",
       "       [0., 1.],\n",
       "       [1., 0.],\n",
       "       [1., 0.],\n",
       "       [1., 0.],\n",
       "       [1., 0.],\n",
       "       [1., 0.],\n",
       "       [1., 0.],\n",
       "       [1., 0.],\n",
       "       [1., 0.],\n",
       "       [0., 1.],\n",
       "       [1., 0.],\n",
       "       [1., 0.],\n",
       "       [1., 0.],\n",
       "       [0., 1.],\n",
       "       [1., 0.],\n",
       "       [1., 0.],\n",
       "       [0., 1.],\n",
       "       [1., 0.],\n",
       "       [0., 1.],\n",
       "       [1., 0.],\n",
       "       [0., 1.],\n",
       "       [1., 0.],\n",
       "       [0., 1.],\n",
       "       [0., 1.],\n",
       "       [0., 1.],\n",
       "       [0., 1.],\n",
       "       [0., 1.],\n",
       "       [1., 0.],\n",
       "       [1., 0.],\n",
       "       [1., 0.],\n",
       "       [1., 0.],\n",
       "       [1., 0.],\n",
       "       [1., 0.],\n",
       "       [1., 0.],\n",
       "       [0., 1.],\n",
       "       [0., 1.],\n",
       "       [0., 1.],\n",
       "       [1., 0.],\n",
       "       [1., 0.],\n",
       "       [0., 1.],\n",
       "       [0., 1.],\n",
       "       [0., 1.],\n",
       "       [0., 1.],\n",
       "       [0., 1.],\n",
       "       [0., 1.],\n",
       "       [1., 0.],\n",
       "       [1., 0.]], dtype=float32)"
      ]
     },
     "execution_count": 56,
     "metadata": {},
     "output_type": "execute_result"
    }
   ],
   "source": [
    "# # Step 2: Convert encoded labels to one-hot-encoding # skipping because our data is numbers\n",
    "y_train_categorical = to_categorical(y_train)\n",
    "y_test_categorical = to_categorical(y_test)\n",
    "y_train_categorical"
   ]
  },
  {
   "cell_type": "markdown",
   "metadata": {},
   "source": [
    "# Create a Deep Learning Model"
   ]
  },
  {
   "cell_type": "code",
   "execution_count": 57,
   "metadata": {},
   "outputs": [],
   "source": [
    "from tensorflow.keras.models import Sequential\n",
    "from tensorflow.keras.layers import Dense"
   ]
  },
  {
   "cell_type": "code",
   "execution_count": 67,
   "metadata": {},
   "outputs": [],
   "source": [
    "# Create model and add layers\n",
    "model = Sequential()\n",
    "model.add(Dense(units=100, activation='relu', input_dim=7))\n",
    "model.add(Dense(units=100, activation='relu'))\n",
    "model.add(Dense(units=2, activation='softmax'))"
   ]
  },
  {
   "cell_type": "code",
   "execution_count": 68,
   "metadata": {},
   "outputs": [],
   "source": [
    "# Compile and fit the model\n",
    "model.compile(optimizer='adam',\n",
    "              loss='categorical_crossentropy',\n",
    "              metrics=['accuracy'])"
   ]
  },
  {
   "cell_type": "code",
   "execution_count": 69,
   "metadata": {},
   "outputs": [
    {
     "name": "stdout",
     "output_type": "stream",
     "text": [
      "Model: \"sequential_3\"\n",
      "_________________________________________________________________\n",
      "Layer (type)                 Output Shape              Param #   \n",
      "=================================================================\n",
      "dense_9 (Dense)              (None, 100)               800       \n",
      "_________________________________________________________________\n",
      "dense_10 (Dense)             (None, 100)               10100     \n",
      "_________________________________________________________________\n",
      "dense_11 (Dense)             (None, 2)                 202       \n",
      "=================================================================\n",
      "Total params: 11,102\n",
      "Trainable params: 11,102\n",
      "Non-trainable params: 0\n",
      "_________________________________________________________________\n"
     ]
    }
   ],
   "source": [
    "model.summary()"
   ]
  },
  {
   "cell_type": "code",
   "execution_count": 70,
   "metadata": {},
   "outputs": [
    {
     "name": "stdout",
     "output_type": "stream",
     "text": [
      "Train on 384 samples\n",
      "Epoch 1/100\n",
      "384/384 - 0s - loss: 0.6901 - accuracy: 0.5130\n",
      "Epoch 2/100\n",
      "384/384 - 0s - loss: 0.6313 - accuracy: 0.7135\n",
      "Epoch 3/100\n",
      "384/384 - 0s - loss: 0.5744 - accuracy: 0.7839\n",
      "Epoch 4/100\n",
      "384/384 - 0s - loss: 0.5163 - accuracy: 0.8229\n",
      "Epoch 5/100\n",
      "384/384 - 0s - loss: 0.4625 - accuracy: 0.8229\n",
      "Epoch 6/100\n",
      "384/384 - 0s - loss: 0.4327 - accuracy: 0.8203\n",
      "Epoch 7/100\n",
      "384/384 - 0s - loss: 0.4158 - accuracy: 0.8385\n",
      "Epoch 8/100\n",
      "384/384 - 0s - loss: 0.4092 - accuracy: 0.8307\n",
      "Epoch 9/100\n",
      "384/384 - 0s - loss: 0.4002 - accuracy: 0.8333\n",
      "Epoch 10/100\n",
      "384/384 - 0s - loss: 0.4035 - accuracy: 0.8255\n",
      "Epoch 11/100\n",
      "384/384 - 0s - loss: 0.3903 - accuracy: 0.8359\n",
      "Epoch 12/100\n",
      "384/384 - 0s - loss: 0.3942 - accuracy: 0.8281\n",
      "Epoch 13/100\n",
      "384/384 - 0s - loss: 0.3875 - accuracy: 0.8359\n",
      "Epoch 14/100\n",
      "384/384 - 0s - loss: 0.3886 - accuracy: 0.8255\n",
      "Epoch 15/100\n",
      "384/384 - 0s - loss: 0.3844 - accuracy: 0.8229\n",
      "Epoch 16/100\n",
      "384/384 - 0s - loss: 0.3844 - accuracy: 0.8307\n",
      "Epoch 17/100\n",
      "384/384 - 0s - loss: 0.3910 - accuracy: 0.8307\n",
      "Epoch 18/100\n",
      "384/384 - 0s - loss: 0.3870 - accuracy: 0.8307\n",
      "Epoch 19/100\n",
      "384/384 - 0s - loss: 0.3920 - accuracy: 0.8151\n",
      "Epoch 20/100\n",
      "384/384 - 0s - loss: 0.3907 - accuracy: 0.8307\n",
      "Epoch 21/100\n",
      "384/384 - 0s - loss: 0.3836 - accuracy: 0.8125\n",
      "Epoch 22/100\n",
      "384/384 - 0s - loss: 0.3795 - accuracy: 0.8307\n",
      "Epoch 23/100\n",
      "384/384 - 0s - loss: 0.3769 - accuracy: 0.8333\n",
      "Epoch 24/100\n",
      "384/384 - 0s - loss: 0.3815 - accuracy: 0.8333\n",
      "Epoch 25/100\n",
      "384/384 - 0s - loss: 0.3838 - accuracy: 0.8307\n",
      "Epoch 26/100\n",
      "384/384 - 0s - loss: 0.3782 - accuracy: 0.8333\n",
      "Epoch 27/100\n",
      "384/384 - 0s - loss: 0.3780 - accuracy: 0.8229\n",
      "Epoch 28/100\n",
      "384/384 - 0s - loss: 0.3719 - accuracy: 0.8385\n",
      "Epoch 29/100\n",
      "384/384 - 0s - loss: 0.3764 - accuracy: 0.8255\n",
      "Epoch 30/100\n",
      "384/384 - 0s - loss: 0.3779 - accuracy: 0.8255\n",
      "Epoch 31/100\n",
      "384/384 - 0s - loss: 0.3793 - accuracy: 0.8255\n",
      "Epoch 32/100\n",
      "384/384 - 0s - loss: 0.3855 - accuracy: 0.8359\n",
      "Epoch 33/100\n",
      "384/384 - 0s - loss: 0.3698 - accuracy: 0.8229\n",
      "Epoch 34/100\n",
      "384/384 - 0s - loss: 0.3808 - accuracy: 0.8203\n",
      "Epoch 35/100\n",
      "384/384 - 0s - loss: 0.3738 - accuracy: 0.8281\n",
      "Epoch 36/100\n",
      "384/384 - 0s - loss: 0.3742 - accuracy: 0.8307\n",
      "Epoch 37/100\n",
      "384/384 - 0s - loss: 0.3799 - accuracy: 0.8229\n",
      "Epoch 38/100\n",
      "384/384 - 0s - loss: 0.3687 - accuracy: 0.8333\n",
      "Epoch 39/100\n",
      "384/384 - 0s - loss: 0.3708 - accuracy: 0.8385\n",
      "Epoch 40/100\n",
      "384/384 - 0s - loss: 0.3660 - accuracy: 0.8385\n",
      "Epoch 41/100\n",
      "384/384 - 0s - loss: 0.3670 - accuracy: 0.8385\n",
      "Epoch 42/100\n",
      "384/384 - 0s - loss: 0.3677 - accuracy: 0.8307\n",
      "Epoch 43/100\n",
      "384/384 - 0s - loss: 0.3715 - accuracy: 0.8255\n",
      "Epoch 44/100\n",
      "384/384 - 0s - loss: 0.3665 - accuracy: 0.8438\n",
      "Epoch 45/100\n",
      "384/384 - 0s - loss: 0.3645 - accuracy: 0.8411\n",
      "Epoch 46/100\n",
      "384/384 - 0s - loss: 0.3708 - accuracy: 0.8385\n",
      "Epoch 47/100\n",
      "384/384 - 0s - loss: 0.3716 - accuracy: 0.8411\n",
      "Epoch 48/100\n",
      "384/384 - 0s - loss: 0.3641 - accuracy: 0.8359\n",
      "Epoch 49/100\n",
      "384/384 - 0s - loss: 0.3715 - accuracy: 0.8255\n",
      "Epoch 50/100\n",
      "384/384 - 0s - loss: 0.3646 - accuracy: 0.8385\n",
      "Epoch 51/100\n",
      "384/384 - 0s - loss: 0.3615 - accuracy: 0.8411\n",
      "Epoch 52/100\n",
      "384/384 - 0s - loss: 0.3646 - accuracy: 0.8438\n",
      "Epoch 53/100\n",
      "384/384 - 0s - loss: 0.3637 - accuracy: 0.8333\n",
      "Epoch 54/100\n",
      "384/384 - 0s - loss: 0.3662 - accuracy: 0.8281\n",
      "Epoch 55/100\n",
      "384/384 - 0s - loss: 0.3685 - accuracy: 0.8255\n",
      "Epoch 56/100\n",
      "384/384 - 0s - loss: 0.3639 - accuracy: 0.8333\n",
      "Epoch 57/100\n",
      "384/384 - 0s - loss: 0.3663 - accuracy: 0.8281\n",
      "Epoch 58/100\n",
      "384/384 - 0s - loss: 0.3656 - accuracy: 0.8464\n",
      "Epoch 59/100\n",
      "384/384 - 0s - loss: 0.3662 - accuracy: 0.8333\n",
      "Epoch 60/100\n",
      "384/384 - 0s - loss: 0.3589 - accuracy: 0.8333\n",
      "Epoch 61/100\n",
      "384/384 - 0s - loss: 0.3578 - accuracy: 0.8385\n",
      "Epoch 62/100\n",
      "384/384 - 0s - loss: 0.3617 - accuracy: 0.8385\n",
      "Epoch 63/100\n",
      "384/384 - 0s - loss: 0.3570 - accuracy: 0.8438\n",
      "Epoch 64/100\n",
      "384/384 - 0s - loss: 0.3580 - accuracy: 0.8490\n",
      "Epoch 65/100\n",
      "384/384 - 0s - loss: 0.3590 - accuracy: 0.8333\n",
      "Epoch 66/100\n",
      "384/384 - 0s - loss: 0.3615 - accuracy: 0.8307\n",
      "Epoch 67/100\n",
      "384/384 - 0s - loss: 0.3610 - accuracy: 0.8411\n",
      "Epoch 68/100\n",
      "384/384 - 0s - loss: 0.3652 - accuracy: 0.8307\n",
      "Epoch 69/100\n",
      "384/384 - 0s - loss: 0.3571 - accuracy: 0.8411\n",
      "Epoch 70/100\n",
      "384/384 - 0s - loss: 0.3571 - accuracy: 0.8307\n",
      "Epoch 71/100\n",
      "384/384 - 0s - loss: 0.3545 - accuracy: 0.8411\n",
      "Epoch 72/100\n",
      "384/384 - 0s - loss: 0.3629 - accuracy: 0.8307\n",
      "Epoch 73/100\n",
      "384/384 - 0s - loss: 0.3589 - accuracy: 0.8438\n",
      "Epoch 74/100\n",
      "384/384 - 0s - loss: 0.3645 - accuracy: 0.8281\n",
      "Epoch 75/100\n",
      "384/384 - 0s - loss: 0.3577 - accuracy: 0.8438\n",
      "Epoch 76/100\n",
      "384/384 - 0s - loss: 0.3535 - accuracy: 0.8333\n",
      "Epoch 77/100\n",
      "384/384 - 0s - loss: 0.3515 - accuracy: 0.8464\n",
      "Epoch 78/100\n",
      "384/384 - 0s - loss: 0.3649 - accuracy: 0.8333\n",
      "Epoch 79/100\n",
      "384/384 - 0s - loss: 0.3569 - accuracy: 0.8385\n",
      "Epoch 80/100\n",
      "384/384 - 0s - loss: 0.3541 - accuracy: 0.8411\n",
      "Epoch 81/100\n",
      "384/384 - 0s - loss: 0.3557 - accuracy: 0.8307\n",
      "Epoch 82/100\n",
      "384/384 - 0s - loss: 0.3535 - accuracy: 0.8490\n",
      "Epoch 83/100\n",
      "384/384 - 0s - loss: 0.3517 - accuracy: 0.8385\n",
      "Epoch 84/100\n",
      "384/384 - 0s - loss: 0.3501 - accuracy: 0.8359\n",
      "Epoch 85/100\n",
      "384/384 - 0s - loss: 0.3519 - accuracy: 0.8203\n",
      "Epoch 86/100\n",
      "384/384 - 0s - loss: 0.3556 - accuracy: 0.8464\n",
      "Epoch 87/100\n",
      "384/384 - 0s - loss: 0.3507 - accuracy: 0.8438\n",
      "Epoch 88/100\n",
      "384/384 - 0s - loss: 0.3522 - accuracy: 0.8359\n",
      "Epoch 89/100\n",
      "384/384 - 0s - loss: 0.3477 - accuracy: 0.8464\n",
      "Epoch 90/100\n",
      "384/384 - 0s - loss: 0.3603 - accuracy: 0.8359\n",
      "Epoch 91/100\n",
      "384/384 - 0s - loss: 0.3691 - accuracy: 0.8281\n",
      "Epoch 92/100\n",
      "384/384 - 0s - loss: 0.3548 - accuracy: 0.8385\n",
      "Epoch 93/100\n",
      "384/384 - 0s - loss: 0.3504 - accuracy: 0.8359\n",
      "Epoch 94/100\n",
      "384/384 - 0s - loss: 0.3463 - accuracy: 0.8411\n",
      "Epoch 95/100\n",
      "384/384 - 0s - loss: 0.3445 - accuracy: 0.8359\n",
      "Epoch 96/100\n",
      "384/384 - 0s - loss: 0.3499 - accuracy: 0.8490\n",
      "Epoch 97/100\n",
      "384/384 - 0s - loss: 0.3469 - accuracy: 0.8411\n",
      "Epoch 98/100\n",
      "384/384 - 0s - loss: 0.3442 - accuracy: 0.8490\n",
      "Epoch 99/100\n",
      "384/384 - 0s - loss: 0.3443 - accuracy: 0.8385\n",
      "Epoch 100/100\n",
      "384/384 - 0s - loss: 0.3498 - accuracy: 0.8490\n"
     ]
    },
    {
     "data": {
      "text/plain": [
       "<tensorflow.python.keras.callbacks.History at 0x234f54b18d0>"
      ]
     },
     "execution_count": 70,
     "metadata": {},
     "output_type": "execute_result"
    }
   ],
   "source": [
    "model.fit(\n",
    "    X_train_scaled,\n",
    "    y_train_categorical,\n",
    "    epochs=100,\n",
    "    shuffle=True,\n",
    "    verbose=2\n",
    ")"
   ]
  },
  {
   "cell_type": "markdown",
   "metadata": {},
   "source": [
    "## Quantify our Trained Model"
   ]
  },
  {
   "cell_type": "code",
   "execution_count": 71,
   "metadata": {},
   "outputs": [
    {
     "name": "stdout",
     "output_type": "stream",
     "text": [
      "128/1 - 0s - loss: 0.5275 - accuracy: 0.7891\n",
      "Normal Neural Network - Loss: 0.45282864570617676, Accuracy: 0.7890625\n"
     ]
    }
   ],
   "source": [
    "model_loss, model_accuracy = model.evaluate(\n",
    "    X_test_scaled, y_test_categorical, verbose=2)\n",
    "print(\n",
    "    f\"Normal Neural Network - Loss: {model_loss}, Accuracy: {model_accuracy}\")"
   ]
  },
  {
   "cell_type": "markdown",
   "metadata": {
    "slideshow": {
     "slide_type": "subslide"
    }
   },
   "source": [
    "## Make Predictions"
   ]
  },
  {
   "cell_type": "code",
   "execution_count": 74,
   "metadata": {
    "nbgrader": {
     "grade": false,
     "grade_id": "cell-f97eb3e97245187b",
     "locked": false,
     "schema_version": 1,
     "solution": true
    },
    "slideshow": {
     "slide_type": "fragment"
    }
   },
   "outputs": [
    {
     "data": {
      "text/plain": [
       "array([0, 0, 1, 1, 1], dtype=int64)"
      ]
     },
     "execution_count": 74,
     "metadata": {},
     "output_type": "execute_result"
    }
   ],
   "source": [
    "encoded_predictions = model.predict_classes(X_test_scaled[:5])\n",
    "#prediction_labels = label_encoder.inverse_transform(encoded_predictions)\n",
    "encoded_predictions"
   ]
  },
  {
   "cell_type": "code",
   "execution_count": 75,
   "metadata": {},
   "outputs": [
    {
     "name": "stdout",
     "output_type": "stream",
     "text": [
      "Predicted classes: [0 0 1 1 1]\n",
      "Actual Labels: [0, 0, 1, 1, 1]\n"
     ]
    }
   ],
   "source": [
    "print(f\"Predicted classes: {encoded_predictions}\")\n",
    "print(f\"Actual Labels: {list(y_test[:5])}\")"
   ]
  },
  {
   "cell_type": "code",
   "execution_count": null,
   "metadata": {},
   "outputs": [],
   "source": [
    "# then read in the test csv and pre-process. there is no label encoding though "
   ]
  }
 ],
 "metadata": {
  "kernelspec": {
   "display_name": "Python 3",
   "language": "python",
   "name": "python3"
  },
  "language_info": {
   "codemirror_mode": {
    "name": "ipython",
    "version": 3
   },
   "file_extension": ".py",
   "mimetype": "text/x-python",
   "name": "python",
   "nbconvert_exporter": "python",
   "pygments_lexer": "ipython3",
   "version": "3.7.1"
  },
  "varInspector": {
   "cols": {
    "lenName": 16,
    "lenType": 16,
    "lenVar": 40
   },
   "kernels_config": {
    "python": {
     "delete_cmd_postfix": "",
     "delete_cmd_prefix": "del ",
     "library": "var_list.py",
     "varRefreshCmd": "print(var_dic_list())"
    },
    "r": {
     "delete_cmd_postfix": ") ",
     "delete_cmd_prefix": "rm(",
     "library": "var_list.r",
     "varRefreshCmd": "cat(var_dic_list()) "
    }
   },
   "types_to_exclude": [
    "module",
    "function",
    "builtin_function_or_method",
    "instance",
    "_Feature"
   ],
   "window_display": false
  }
 },
 "nbformat": 4,
 "nbformat_minor": 2
}
