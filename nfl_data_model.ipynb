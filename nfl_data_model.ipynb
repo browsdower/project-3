{
 "cells": [
  {
   "cell_type": "code",
   "execution_count": 1,
   "metadata": {
    "scrolled": true
   },
   "outputs": [],
   "source": [
    "# Set the seed value for the notebook so the results are reproducible\n",
    "from numpy.random import seed\n",
    "seed(1)"
   ]
  },
  {
   "cell_type": "code",
   "execution_count": 2,
   "metadata": {
    "scrolled": true,
    "slideshow": {
     "slide_type": "subslide"
    }
   },
   "outputs": [],
   "source": [
    "# Dependencies\n",
    "import numpy as np\n",
    "import pandas as pd"
   ]
  },
  {
   "cell_type": "code",
   "execution_count": 3,
   "metadata": {
    "scrolled": true
   },
   "outputs": [
    {
     "data": {
      "text/plain": [
       "'2.2.4-tf'"
      ]
     },
     "execution_count": 3,
     "metadata": {},
     "output_type": "execute_result"
    }
   ],
   "source": [
    "import tensorflow\n",
    "tensorflow.keras.__version__"
   ]
  },
  {
   "cell_type": "code",
   "execution_count": 4,
   "metadata": {
    "scrolled": false,
    "slideshow": {
     "slide_type": "fragment"
    }
   },
   "outputs": [
    {
     "data": {
      "text/plain": [
       "(463, 37)"
      ]
     },
     "execution_count": 4,
     "metadata": {},
     "output_type": "execute_result"
    }
   ],
   "source": [
    "# read in 2019 nfl data\n",
    "home_epa = pd.read_csv('home_data.csv')\n",
    "\n",
    "away_epa = pd.read_csv('away_data.csv')\n",
    "\n",
    "# merge home + away data for 2019\n",
    "epa_2019 = pd.merge(away_epa, home_epa, on='game_id', how='inner')\n",
    "\n",
    "# pre home + away merged data for 2018\n",
    "epa_2018 = pd.read_csv('mergedepa_2018.csv')\n",
    "\n",
    "# append the 2018 data to the 2019 dataframe\n",
    "epa = epa_2019.append(epa_2018, ignore_index=True)\n",
    "epa.shape"
   ]
  },
  {
   "cell_type": "code",
   "execution_count": 5,
   "metadata": {
    "scrolled": false
   },
   "outputs": [
    {
     "data": {
      "text/html": [
       "<div>\n",
       "<style scoped>\n",
       "    .dataframe tbody tr th:only-of-type {\n",
       "        vertical-align: middle;\n",
       "    }\n",
       "\n",
       "    .dataframe tbody tr th {\n",
       "        vertical-align: top;\n",
       "    }\n",
       "\n",
       "    .dataframe thead th {\n",
       "        text-align: right;\n",
       "    }\n",
       "</style>\n",
       "<table border=\"1\" class=\"dataframe\">\n",
       "  <thead>\n",
       "    <tr style=\"text-align: right;\">\n",
       "      <th></th>\n",
       "      <th>game_id</th>\n",
       "      <th>home_team_x</th>\n",
       "      <th>away_team_x</th>\n",
       "      <th>posteam_x</th>\n",
       "      <th>Total_EPA_x</th>\n",
       "      <th>Total_Yards_Gained_x</th>\n",
       "      <th>Air_Yards_x</th>\n",
       "      <th>Turnovers_x</th>\n",
       "      <th>Total_Rush_Attempts_x</th>\n",
       "      <th>Total_Pass_Attempts_x</th>\n",
       "      <th>...</th>\n",
       "      <th>Total_Pass_Attempts_y</th>\n",
       "      <th>total_away_score_y</th>\n",
       "      <th>total_home_score_y</th>\n",
       "      <th>Winner_y</th>\n",
       "      <th>MA_EPA_y</th>\n",
       "      <th>MA_yards_gained_y</th>\n",
       "      <th>MA_air_yards_y</th>\n",
       "      <th>MA_turnovers_y</th>\n",
       "      <th>MA_rush_attempts_y</th>\n",
       "      <th>MA_pass_attempts_y</th>\n",
       "    </tr>\n",
       "  </thead>\n",
       "  <tbody>\n",
       "    <tr>\n",
       "      <th>0</th>\n",
       "      <td>2019091500</td>\n",
       "      <td>BAL</td>\n",
       "      <td>ARI</td>\n",
       "      <td>ARI</td>\n",
       "      <td>1.885633</td>\n",
       "      <td>351</td>\n",
       "      <td>312</td>\n",
       "      <td>0</td>\n",
       "      <td>11</td>\n",
       "      <td>44</td>\n",
       "      <td>...</td>\n",
       "      <td>39</td>\n",
       "      <td>17</td>\n",
       "      <td>23</td>\n",
       "      <td>Home</td>\n",
       "      <td>51.706295</td>\n",
       "      <td>643</td>\n",
       "      <td>262</td>\n",
       "      <td>1.00</td>\n",
       "      <td>46.00</td>\n",
       "      <td>27.00</td>\n",
       "    </tr>\n",
       "    <tr>\n",
       "      <th>1</th>\n",
       "      <td>2019100601</td>\n",
       "      <td>CIN</td>\n",
       "      <td>ARI</td>\n",
       "      <td>ARI</td>\n",
       "      <td>15.487371</td>\n",
       "      <td>514</td>\n",
       "      <td>247</td>\n",
       "      <td>0</td>\n",
       "      <td>38</td>\n",
       "      <td>33</td>\n",
       "      <td>...</td>\n",
       "      <td>39</td>\n",
       "      <td>26</td>\n",
       "      <td>23</td>\n",
       "      <td>Away</td>\n",
       "      <td>-10.777790</td>\n",
       "      <td>306</td>\n",
       "      <td>296</td>\n",
       "      <td>2.25</td>\n",
       "      <td>17.75</td>\n",
       "      <td>46.25</td>\n",
       "    </tr>\n",
       "    <tr>\n",
       "      <th>2</th>\n",
       "      <td>2019102006</td>\n",
       "      <td>NYG</td>\n",
       "      <td>ARI</td>\n",
       "      <td>ARI</td>\n",
       "      <td>2.310009</td>\n",
       "      <td>245</td>\n",
       "      <td>112</td>\n",
       "      <td>0</td>\n",
       "      <td>38</td>\n",
       "      <td>23</td>\n",
       "      <td>...</td>\n",
       "      <td>43</td>\n",
       "      <td>27</td>\n",
       "      <td>21</td>\n",
       "      <td>Away</td>\n",
       "      <td>-7.564422</td>\n",
       "      <td>299</td>\n",
       "      <td>298</td>\n",
       "      <td>2.75</td>\n",
       "      <td>23.00</td>\n",
       "      <td>36.75</td>\n",
       "    </tr>\n",
       "    <tr>\n",
       "      <th>3</th>\n",
       "      <td>2019102707</td>\n",
       "      <td>NO</td>\n",
       "      <td>ARI</td>\n",
       "      <td>ARI</td>\n",
       "      <td>-10.899145</td>\n",
       "      <td>237</td>\n",
       "      <td>289</td>\n",
       "      <td>0</td>\n",
       "      <td>11</td>\n",
       "      <td>38</td>\n",
       "      <td>...</td>\n",
       "      <td>43</td>\n",
       "      <td>9</td>\n",
       "      <td>31</td>\n",
       "      <td>Home</td>\n",
       "      <td>7.330501</td>\n",
       "      <td>368</td>\n",
       "      <td>237</td>\n",
       "      <td>0.50</td>\n",
       "      <td>29.75</td>\n",
       "      <td>37.25</td>\n",
       "    </tr>\n",
       "    <tr>\n",
       "      <th>4</th>\n",
       "      <td>2019111006</td>\n",
       "      <td>TB</td>\n",
       "      <td>ARI</td>\n",
       "      <td>ARI</td>\n",
       "      <td>8.570837</td>\n",
       "      <td>417</td>\n",
       "      <td>560</td>\n",
       "      <td>2</td>\n",
       "      <td>18</td>\n",
       "      <td>47</td>\n",
       "      <td>...</td>\n",
       "      <td>52</td>\n",
       "      <td>27</td>\n",
       "      <td>30</td>\n",
       "      <td>Home</td>\n",
       "      <td>1.113415</td>\n",
       "      <td>368</td>\n",
       "      <td>433</td>\n",
       "      <td>3.00</td>\n",
       "      <td>23.25</td>\n",
       "      <td>47.25</td>\n",
       "    </tr>\n",
       "  </tbody>\n",
       "</table>\n",
       "<p>5 rows × 37 columns</p>\n",
       "</div>"
      ],
      "text/plain": [
       "      game_id home_team_x away_team_x posteam_x  Total_EPA_x  \\\n",
       "0  2019091500         BAL         ARI       ARI     1.885633   \n",
       "1  2019100601         CIN         ARI       ARI    15.487371   \n",
       "2  2019102006         NYG         ARI       ARI     2.310009   \n",
       "3  2019102707          NO         ARI       ARI   -10.899145   \n",
       "4  2019111006          TB         ARI       ARI     8.570837   \n",
       "\n",
       "   Total_Yards_Gained_x  Air_Yards_x  Turnovers_x  Total_Rush_Attempts_x  \\\n",
       "0                   351          312            0                     11   \n",
       "1                   514          247            0                     38   \n",
       "2                   245          112            0                     38   \n",
       "3                   237          289            0                     11   \n",
       "4                   417          560            2                     18   \n",
       "\n",
       "   Total_Pass_Attempts_x  ...  Total_Pass_Attempts_y  total_away_score_y  \\\n",
       "0                     44  ...                     39                  17   \n",
       "1                     33  ...                     39                  26   \n",
       "2                     23  ...                     43                  27   \n",
       "3                     38  ...                     43                   9   \n",
       "4                     47  ...                     52                  27   \n",
       "\n",
       "  total_home_score_y  Winner_y   MA_EPA_y  MA_yards_gained_y  MA_air_yards_y  \\\n",
       "0                 23      Home  51.706295                643             262   \n",
       "1                 23      Away -10.777790                306             296   \n",
       "2                 21      Away  -7.564422                299             298   \n",
       "3                 31      Home   7.330501                368             237   \n",
       "4                 30      Home   1.113415                368             433   \n",
       "\n",
       "   MA_turnovers_y  MA_rush_attempts_y MA_pass_attempts_y  \n",
       "0            1.00               46.00              27.00  \n",
       "1            2.25               17.75              46.25  \n",
       "2            2.75               23.00              36.75  \n",
       "3            0.50               29.75              37.25  \n",
       "4            3.00               23.25              47.25  \n",
       "\n",
       "[5 rows x 37 columns]"
      ]
     },
     "execution_count": 5,
     "metadata": {},
     "output_type": "execute_result"
    }
   ],
   "source": [
    "epa.head()"
   ]
  },
  {
   "cell_type": "markdown",
   "metadata": {
    "slideshow": {
     "slide_type": "subslide"
    }
   },
   "source": [
    "## Data Pre-Processing"
   ]
  },
  {
   "cell_type": "markdown",
   "metadata": {},
   "source": [
    "## dropped turnovers (60%)"
   ]
  },
  {
   "cell_type": "code",
   "execution_count": 6,
   "metadata": {
    "nbgrader": {
     "grade": false,
     "grade_id": "cell-86a9e3212f200d21",
     "locked": false,
     "schema_version": 1,
     "solution": true
    },
    "scrolled": true,
    "slideshow": {
     "slide_type": "subslide"
    }
   },
   "outputs": [],
   "source": [
    "# # dropping columns that pertain to the game that happened. only want moving average data. probably could have just said what to grab instead of what to drop\n",
    "# #dropped MA of turnovers (result = 60%)\n",
    "# X = epa.drop([\"home_team_x\", \"home_team_y\", \"away_team_x\", \"away_team_y\", \"posteam_x\", \"posteam_y\", \"total_home_score_x\", \"total_home_score_y\",\n",
    "#              \"total_away_score_x\", \"total_away_score_y\", \"Total_EPA_x\", \"Total_EPA_y\", \"Total_Yards_Gained_x\", \"Total_Yards_Gained_y\",\n",
    "#              \"Air_Yards_x\", \"Air_Yards_y\", \"Turnovers_x\", \"Turnovers_y\",\"Total_Rush_Attempts_x\", \"Total_Rush_Attempts_y\", \n",
    "#               \"Total_Pass_Attempts_x\", \"Total_Pass_Attempts_y\", \"Winner_y\", \"Winner_x\", \"game_id\", \"MA_turnovers_x\", \"MA_turnovers_y\", \n",
    "#               ], axis=1)\n",
    "# # who won the game \n",
    "# y = epa[\"Winner_x\"]\n",
    "\n",
    "# print(X.shape, y.shape)"
   ]
  },
  {
   "cell_type": "markdown",
   "metadata": {},
   "source": [
    "## Dropped Turnovers and yards gained (56%)"
   ]
  },
  {
   "cell_type": "code",
   "execution_count": 7,
   "metadata": {},
   "outputs": [],
   "source": [
    "# # dropping turnovers and yards gained (reseult = 56%)\n",
    "# X = epa.drop([\"home_team_x\", \"home_team_y\", \"away_team_x\", \"away_team_y\", \"posteam_x\", \"posteam_y\", \"total_home_score_x\", \"total_home_score_y\",\n",
    "#              \"total_away_score_x\", \"total_away_score_y\", \"Total_EPA_x\", \"Total_EPA_y\", \"Total_Yards_Gained_x\", \"Total_Yards_Gained_y\",\n",
    "#              \"Air_Yards_x\", \"Air_Yards_y\", \"Turnovers_x\", \"Turnovers_y\",\"Total_Rush_Attempts_x\", \"Total_Rush_Attempts_y\", \n",
    "#               \"Total_Pass_Attempts_x\", \"Total_Pass_Attempts_y\", \"Winner_y\", \"Winner_x\", \"game_id\", \"MA_turnovers_x\", \"MA_turnovers_y\", \n",
    "#               \"MA_yards_gained_x\", \"MA_yards_gained_y\"], axis=1)\n",
    "# # who won the game \n",
    "# y = epa[\"Winner_x\"]\n",
    "\n",
    "# print(X.shape, y.shape)"
   ]
  },
  {
   "cell_type": "markdown",
   "metadata": {},
   "source": [
    "## Dropped EPA (60%)"
   ]
  },
  {
   "cell_type": "code",
   "execution_count": 8,
   "metadata": {},
   "outputs": [],
   "source": [
    "# X = epa.drop([\"home_team_x\", \"home_team_y\", \"away_team_x\", \"away_team_y\", \"posteam_x\", \"posteam_y\", \"total_home_score_x\", \"total_home_score_y\",\n",
    "#              \"total_away_score_x\", \"total_away_score_y\", \"Total_EPA_x\", \"Total_EPA_y\", \"Total_Yards_Gained_x\", \"Total_Yards_Gained_y\",\n",
    "#              \"Air_Yards_x\", \"Air_Yards_y\", \"Turnovers_x\", \"Turnovers_y\",\"Total_Rush_Attempts_x\", \"Total_Rush_Attempts_y\", \n",
    "#               \"Total_Pass_Attempts_x\", \"Total_Pass_Attempts_y\", \"Winner_y\", \"Winner_x\", \"game_id\", \"MA_EPA_x\", \"MA_EPA_y\", \n",
    "#               ], axis=1)\n",
    "# # who won the game \n",
    "# y = epa[\"Winner_x\"]\n",
    "\n",
    "# print(X.shape, y.shape)"
   ]
  },
  {
   "cell_type": "markdown",
   "metadata": {},
   "source": [
    "## Dropped rush and pass attempts"
   ]
  },
  {
   "cell_type": "code",
   "execution_count": 9,
   "metadata": {},
   "outputs": [],
   "source": [
    "# X = epa.drop([\"home_team_x\", \"home_team_y\", \"away_team_x\", \"away_team_y\", \"posteam_x\", \"posteam_y\", \"total_home_score_x\", \"total_home_score_y\",\n",
    "#              \"total_away_score_x\", \"total_away_score_y\", \"Total_EPA_x\", \"Total_EPA_y\", \"Total_Yards_Gained_x\", \"Total_Yards_Gained_y\",\n",
    "#              \"Air_Yards_x\", \"Air_Yards_y\", \"Turnovers_x\", \"Turnovers_y\",\"Total_Rush_Attempts_x\", \"Total_Rush_Attempts_y\", \n",
    "#               \"Total_Pass_Attempts_x\", \"Total_Pass_Attempts_y\", \"Winner_y\", \"Winner_x\", \"game_id\", \"MA_pass_attempts_x\", \"MA_pass_attempts_y\", \n",
    "#               \"MA_rush_attempts_x\", \"MA_rush_attempts_y\"], axis=1)\n",
    "# # who won the game \n",
    "# y = epa[\"Winner_x\"]\n",
    "\n",
    "# print(X.shape, y.shape)"
   ]
  },
  {
   "cell_type": "markdown",
   "metadata": {},
   "source": [
    "## Dropped turnovers, rush + pass attempts"
   ]
  },
  {
   "cell_type": "code",
   "execution_count": 10,
   "metadata": {},
   "outputs": [],
   "source": [
    "# X = epa.drop([\"home_team_x\", \"home_team_y\", \"away_team_x\", \"away_team_y\", \"posteam_x\", \"posteam_y\", \"total_home_score_x\", \"total_home_score_y\",\n",
    "#              \"total_away_score_x\", \"total_away_score_y\", \"Total_EPA_x\", \"Total_EPA_y\", \"Total_Yards_Gained_x\", \"Total_Yards_Gained_y\",\n",
    "#              \"Air_Yards_x\", \"Air_Yards_y\", \"Turnovers_x\", \"Turnovers_y\",\"Total_Rush_Attempts_x\", \"Total_Rush_Attempts_y\", \n",
    "#               \"Total_Pass_Attempts_x\", \"Total_Pass_Attempts_y\", \"Winner_y\", \"Winner_x\", \"game_id\", \"MA_pass_attempts_x\", \"MA_pass_attempts_y\", \n",
    "#               \"MA_rush_attempts_x\", \"MA_rush_attempts_y\", \"MA_turnovers_x\", \"MA_turnovers_y\"], axis=1)\n",
    "# # who won the game \n",
    "# y = epa[\"Winner_x\"]\n",
    "\n",
    "# print(X.shape, y.shape)"
   ]
  },
  {
   "cell_type": "markdown",
   "metadata": {},
   "source": [
    "## Keeping EPA and Air yards only"
   ]
  },
  {
   "cell_type": "code",
   "execution_count": 11,
   "metadata": {},
   "outputs": [],
   "source": [
    "# X = epa.drop([\"home_team_x\", \"home_team_y\", \"away_team_x\", \"away_team_y\", \"posteam_x\", \"posteam_y\", \"total_home_score_x\", \"total_home_score_y\",\n",
    "#              \"total_away_score_x\", \"total_away_score_y\", \"Total_EPA_x\", \"Total_EPA_y\", \"Total_Yards_Gained_x\", \"Total_Yards_Gained_y\",\n",
    "#              \"Air_Yards_x\", \"Air_Yards_y\", \"Turnovers_x\", \"Turnovers_y\",\"Total_Rush_Attempts_x\", \"Total_Rush_Attempts_y\", \n",
    "#               \"Total_Pass_Attempts_x\", \"Total_Pass_Attempts_y\", \"Winner_y\", \"Winner_x\", \"game_id\", \"MA_pass_attempts_x\", \"MA_pass_attempts_y\", \n",
    "#               \"MA_rush_attempts_x\", \"MA_rush_attempts_y\", \"MA_turnovers_x\", \"MA_turnovers_y\", \"MA_yards_gained_y\", \"MA_yards_gained_x\",\n",
    "#              \"MA_air_yards_x\", \"MA_air_yards_y\"], axis=1)\n",
    "# # who won the game \n",
    "# y = epa[\"Winner_x\"]\n",
    "\n",
    "# print(X.shape, y.shape)"
   ]
  },
  {
   "cell_type": "markdown",
   "metadata": {},
   "source": [
    "## Dropping air yards, EPA"
   ]
  },
  {
   "cell_type": "code",
   "execution_count": 12,
   "metadata": {},
   "outputs": [
    {
     "name": "stdout",
     "output_type": "stream",
     "text": [
      "(463, 8) (463,)\n"
     ]
    }
   ],
   "source": [
    "X = epa.drop([\"home_team_x\", \"home_team_y\", \"away_team_x\", \"away_team_y\", \"posteam_x\", \"posteam_y\", \"total_home_score_x\", \"total_home_score_y\",\n",
    "             \"total_away_score_x\", \"total_away_score_y\", \"Total_EPA_x\", \"Total_EPA_y\", \"Total_Yards_Gained_x\", \"Total_Yards_Gained_y\",\n",
    "             \"Air_Yards_x\", \"Air_Yards_y\", \"Turnovers_x\", \"Turnovers_y\",\"Total_Rush_Attempts_x\", \"Total_Rush_Attempts_y\", \n",
    "              \"Total_Pass_Attempts_x\", \"Total_Pass_Attempts_y\", \"Winner_y\", \"Winner_x\", \"game_id\", \"MA_EPA_x\", \"MA_EPA_y\", \n",
    "              \"MA_air_yards_x\", \"MA_air_yards_y\"], axis=1)\n",
    "# who won the game \n",
    "y = epa[\"Winner_x\"]\n",
    "\n",
    "print(X.shape, y.shape)"
   ]
  },
  {
   "cell_type": "markdown",
   "metadata": {},
   "source": [
    "## Not dropping anything"
   ]
  },
  {
   "cell_type": "code",
   "execution_count": 13,
   "metadata": {},
   "outputs": [],
   "source": [
    "# # dropping columns that pertain to the game that happened. only want moving average data. probably could have just said what to grab instead of what to drop\n",
    "\n",
    "# X = epa.drop([\"home_team_x\", \"home_team_y\", \"away_team_x\", \"away_team_y\", \"posteam_x\", \"posteam_y\", \"total_home_score_x\", \"total_home_score_y\",\n",
    "#              \"total_away_score_x\", \"total_away_score_y\", \"Total_EPA_x\", \"Total_EPA_y\", \"Total_Yards_Gained_x\", \"Total_Yards_Gained_y\",\n",
    "#              \"Air_Yards_x\", \"Air_Yards_y\", \"Turnovers_x\", \"Turnovers_y\",\"Total_Rush_Attempts_x\", \"Total_Rush_Attempts_y\", \n",
    "#               \"Total_Pass_Attempts_x\", \"Total_Pass_Attempts_y\", \"Winner_y\", \"Winner_x\", \"game_id\" \n",
    "#               ], axis=1)\n",
    "# # who won the game\n",
    "# y = epa[\"Winner_x\"]\n",
    "\n",
    "# print(X.shape, y.shape)"
   ]
  },
  {
   "cell_type": "code",
   "execution_count": 14,
   "metadata": {
    "nbgrader": {
     "grade": false,
     "grade_id": "cell-711a82d9b32c83ff",
     "locked": false,
     "schema_version": 1,
     "solution": true
    },
    "scrolled": true,
    "slideshow": {
     "slide_type": "fragment"
    }
   },
   "outputs": [],
   "source": [
    "from sklearn.model_selection import train_test_split\n",
    "from sklearn.preprocessing import LabelEncoder, MinMaxScaler\n",
    "from tensorflow.keras.utils import to_categorical"
   ]
  },
  {
   "cell_type": "code",
   "execution_count": 15,
   "metadata": {
    "nbgrader": {
     "grade": false,
     "grade_id": "cell-711a82d9b32c83ff",
     "locked": false,
     "schema_version": 1,
     "solution": true
    },
    "scrolled": true,
    "slideshow": {
     "slide_type": "fragment"
    }
   },
   "outputs": [],
   "source": [
    "X_train, X_test, y_train, y_test = train_test_split(\n",
    "    X, y, random_state=42, stratify=y)"
   ]
  },
  {
   "cell_type": "code",
   "execution_count": 16,
   "metadata": {
    "nbgrader": {
     "grade": false,
     "grade_id": "cell-711a82d9b32c83ff",
     "locked": false,
     "schema_version": 1,
     "solution": true
    },
    "scrolled": false,
    "slideshow": {
     "slide_type": "fragment"
    }
   },
   "outputs": [],
   "source": [
    "X_scaler = MinMaxScaler().fit(X_train)\n",
    "X_train_scaled = X_scaler.transform(X_train)\n",
    "\n",
    "X_test_scaled = X_scaler.transform(X_test)\n"
   ]
  },
  {
   "cell_type": "code",
   "execution_count": 17,
   "metadata": {
    "nbgrader": {
     "grade": false,
     "grade_id": "cell-711a82d9b32c83ff",
     "locked": false,
     "schema_version": 1,
     "solution": true
    },
    "scrolled": true,
    "slideshow": {
     "slide_type": "fragment"
    }
   },
   "outputs": [],
   "source": [
    "# Step 1: Label-encode data set, necessary for Winner_x\n",
    "label_encoder = LabelEncoder()\n",
    "label_encoder.fit(y_train)\n",
    "encoded_y_train = label_encoder.transform(y_train)\n",
    "encoded_y_test = label_encoder.transform(y_test)"
   ]
  },
  {
   "cell_type": "code",
   "execution_count": 18,
   "metadata": {
    "nbgrader": {
     "grade": false,
     "grade_id": "cell-711a82d9b32c83ff",
     "locked": false,
     "schema_version": 1,
     "solution": true
    },
    "scrolled": false,
    "slideshow": {
     "slide_type": "fragment"
    }
   },
   "outputs": [],
   "source": [
    "# # Step 2: Convert encoded labels to one-hot-encoding \n",
    "y_train_categorical = to_categorical(encoded_y_train)\n",
    "y_test_categorical = to_categorical(encoded_y_test)"
   ]
  },
  {
   "cell_type": "markdown",
   "metadata": {},
   "source": [
    "# Create a Deep Learning Model"
   ]
  },
  {
   "cell_type": "code",
   "execution_count": 19,
   "metadata": {
    "scrolled": true
   },
   "outputs": [],
   "source": [
    "from tensorflow.keras.models import Sequential\n",
    "from tensorflow.keras.layers import Dense"
   ]
  },
  {
   "cell_type": "markdown",
   "metadata": {},
   "source": [
    "## input_dim below must match the shape of X columns"
   ]
  },
  {
   "cell_type": "code",
   "execution_count": 20,
   "metadata": {
    "scrolled": true
   },
   "outputs": [],
   "source": [
    "# Create model and add layers\n",
    "model = Sequential()\n",
    "#input_dim is equal to number of columns used for train\n",
    "model.add(Dense(units=100, activation='relu', input_dim=8))\n",
    "model.add(Dense(units=100, activation='relu'))\n",
    "model.add(Dense(units=2, activation='softmax'))"
   ]
  },
  {
   "cell_type": "code",
   "execution_count": 21,
   "metadata": {
    "scrolled": true
   },
   "outputs": [],
   "source": [
    "# Compile and fit the model\n",
    "model.compile(optimizer='adam',\n",
    "              loss='categorical_crossentropy',\n",
    "              metrics=['accuracy'])"
   ]
  },
  {
   "cell_type": "code",
   "execution_count": 22,
   "metadata": {
    "scrolled": true
   },
   "outputs": [
    {
     "name": "stdout",
     "output_type": "stream",
     "text": [
      "Model: \"sequential\"\n",
      "_________________________________________________________________\n",
      "Layer (type)                 Output Shape              Param #   \n",
      "=================================================================\n",
      "dense (Dense)                (None, 100)               900       \n",
      "_________________________________________________________________\n",
      "dense_1 (Dense)              (None, 100)               10100     \n",
      "_________________________________________________________________\n",
      "dense_2 (Dense)              (None, 2)                 202       \n",
      "=================================================================\n",
      "Total params: 11,202\n",
      "Trainable params: 11,202\n",
      "Non-trainable params: 0\n",
      "_________________________________________________________________\n"
     ]
    }
   ],
   "source": [
    "model.summary()"
   ]
  },
  {
   "cell_type": "code",
   "execution_count": 23,
   "metadata": {
    "scrolled": true
   },
   "outputs": [
    {
     "name": "stdout",
     "output_type": "stream",
     "text": [
      "Train on 347 samples\n",
      "Epoch 1/200\n",
      "347/347 - 1s - loss: 0.6909 - accuracy: 0.5331\n",
      "Epoch 2/200\n",
      "347/347 - 0s - loss: 0.6828 - accuracy: 0.5476\n",
      "Epoch 3/200\n",
      "347/347 - 0s - loss: 0.6813 - accuracy: 0.5591\n",
      "Epoch 4/200\n",
      "347/347 - 0s - loss: 0.6788 - accuracy: 0.5562\n",
      "Epoch 5/200\n",
      "347/347 - 0s - loss: 0.6774 - accuracy: 0.5533\n",
      "Epoch 6/200\n",
      "347/347 - 0s - loss: 0.6773 - accuracy: 0.5965\n",
      "Epoch 7/200\n",
      "347/347 - 0s - loss: 0.6716 - accuracy: 0.6081\n",
      "Epoch 8/200\n",
      "347/347 - 0s - loss: 0.6720 - accuracy: 0.5706\n",
      "Epoch 9/200\n",
      "347/347 - 0s - loss: 0.6697 - accuracy: 0.5994\n",
      "Epoch 10/200\n",
      "347/347 - 0s - loss: 0.6690 - accuracy: 0.5908\n",
      "Epoch 11/200\n",
      "347/347 - 0s - loss: 0.6731 - accuracy: 0.5793\n",
      "Epoch 12/200\n",
      "347/347 - 0s - loss: 0.6656 - accuracy: 0.5937\n",
      "Epoch 13/200\n",
      "347/347 - 0s - loss: 0.6627 - accuracy: 0.6023\n",
      "Epoch 14/200\n",
      "347/347 - 0s - loss: 0.6634 - accuracy: 0.5965\n",
      "Epoch 15/200\n",
      "347/347 - 0s - loss: 0.6592 - accuracy: 0.5937\n",
      "Epoch 16/200\n",
      "347/347 - 0s - loss: 0.6570 - accuracy: 0.6254\n",
      "Epoch 17/200\n",
      "347/347 - 0s - loss: 0.6574 - accuracy: 0.6110\n",
      "Epoch 18/200\n",
      "347/347 - 0s - loss: 0.6568 - accuracy: 0.6081\n",
      "Epoch 19/200\n",
      "347/347 - 0s - loss: 0.6538 - accuracy: 0.6311\n",
      "Epoch 20/200\n",
      "347/347 - 0s - loss: 0.6510 - accuracy: 0.5994\n",
      "Epoch 21/200\n",
      "347/347 - 0s - loss: 0.6506 - accuracy: 0.6254\n",
      "Epoch 22/200\n",
      "347/347 - 0s - loss: 0.6469 - accuracy: 0.6167\n",
      "Epoch 23/200\n",
      "347/347 - 0s - loss: 0.6483 - accuracy: 0.6398\n",
      "Epoch 24/200\n",
      "347/347 - 0s - loss: 0.6417 - accuracy: 0.6398\n",
      "Epoch 25/200\n",
      "347/347 - 0s - loss: 0.6383 - accuracy: 0.6282\n",
      "Epoch 26/200\n",
      "347/347 - 0s - loss: 0.6374 - accuracy: 0.6340\n",
      "Epoch 27/200\n",
      "347/347 - 0s - loss: 0.6354 - accuracy: 0.6427\n",
      "Epoch 28/200\n",
      "347/347 - 0s - loss: 0.6325 - accuracy: 0.6369\n",
      "Epoch 29/200\n",
      "347/347 - 0s - loss: 0.6310 - accuracy: 0.6427\n",
      "Epoch 30/200\n",
      "347/347 - 0s - loss: 0.6291 - accuracy: 0.6628\n",
      "Epoch 31/200\n",
      "347/347 - 0s - loss: 0.6255 - accuracy: 0.6628\n",
      "Epoch 32/200\n",
      "347/347 - 0s - loss: 0.6241 - accuracy: 0.6398\n",
      "Epoch 33/200\n",
      "347/347 - 0s - loss: 0.6232 - accuracy: 0.6484\n",
      "Epoch 34/200\n",
      "347/347 - 0s - loss: 0.6216 - accuracy: 0.6455\n",
      "Epoch 35/200\n",
      "347/347 - 0s - loss: 0.6250 - accuracy: 0.6455\n",
      "Epoch 36/200\n",
      "347/347 - 0s - loss: 0.6273 - accuracy: 0.6427\n",
      "Epoch 37/200\n",
      "347/347 - 0s - loss: 0.6192 - accuracy: 0.6513\n",
      "Epoch 38/200\n",
      "347/347 - 0s - loss: 0.6136 - accuracy: 0.6715\n",
      "Epoch 39/200\n",
      "347/347 - 0s - loss: 0.6104 - accuracy: 0.6830\n",
      "Epoch 40/200\n",
      "347/347 - 0s - loss: 0.6059 - accuracy: 0.6744\n",
      "Epoch 41/200\n",
      "347/347 - 0s - loss: 0.6102 - accuracy: 0.6744\n",
      "Epoch 42/200\n",
      "347/347 - 0s - loss: 0.6079 - accuracy: 0.6744\n",
      "Epoch 43/200\n",
      "347/347 - 0s - loss: 0.6050 - accuracy: 0.6801\n",
      "Epoch 44/200\n",
      "347/347 - 0s - loss: 0.6091 - accuracy: 0.6455\n",
      "Epoch 45/200\n",
      "347/347 - 0s - loss: 0.6138 - accuracy: 0.6542\n",
      "Epoch 46/200\n",
      "347/347 - 0s - loss: 0.5986 - accuracy: 0.6859\n",
      "Epoch 47/200\n",
      "347/347 - 0s - loss: 0.5947 - accuracy: 0.6830\n",
      "Epoch 48/200\n",
      "347/347 - 0s - loss: 0.5980 - accuracy: 0.6830\n",
      "Epoch 49/200\n",
      "347/347 - 0s - loss: 0.5929 - accuracy: 0.6715\n",
      "Epoch 50/200\n",
      "347/347 - 0s - loss: 0.6058 - accuracy: 0.6542\n",
      "Epoch 51/200\n",
      "347/347 - 0s - loss: 0.5918 - accuracy: 0.6801\n",
      "Epoch 52/200\n",
      "347/347 - 0s - loss: 0.5872 - accuracy: 0.7089\n",
      "Epoch 53/200\n",
      "347/347 - 0s - loss: 0.5853 - accuracy: 0.6945\n",
      "Epoch 54/200\n",
      "347/347 - 0s - loss: 0.5901 - accuracy: 0.6715\n",
      "Epoch 55/200\n",
      "347/347 - 0s - loss: 0.5919 - accuracy: 0.6772\n",
      "Epoch 56/200\n",
      "347/347 - 0s - loss: 0.5834 - accuracy: 0.7032\n",
      "Epoch 57/200\n",
      "347/347 - 0s - loss: 0.5758 - accuracy: 0.6974\n",
      "Epoch 58/200\n",
      "347/347 - 0s - loss: 0.5724 - accuracy: 0.7118\n",
      "Epoch 59/200\n",
      "347/347 - 0s - loss: 0.5773 - accuracy: 0.6888\n",
      "Epoch 60/200\n",
      "347/347 - 0s - loss: 0.5726 - accuracy: 0.7089\n",
      "Epoch 61/200\n",
      "347/347 - 0s - loss: 0.5733 - accuracy: 0.6974\n",
      "Epoch 62/200\n",
      "347/347 - 0s - loss: 0.5658 - accuracy: 0.7147\n",
      "Epoch 63/200\n",
      "347/347 - 0s - loss: 0.5712 - accuracy: 0.7061\n",
      "Epoch 64/200\n",
      "347/347 - 0s - loss: 0.5621 - accuracy: 0.7262\n",
      "Epoch 65/200\n",
      "347/347 - 0s - loss: 0.5639 - accuracy: 0.7118\n",
      "Epoch 66/200\n",
      "347/347 - 0s - loss: 0.5687 - accuracy: 0.6945\n",
      "Epoch 67/200\n",
      "347/347 - 0s - loss: 0.5659 - accuracy: 0.6916\n",
      "Epoch 68/200\n",
      "347/347 - 0s - loss: 0.5583 - accuracy: 0.7233\n",
      "Epoch 69/200\n",
      "347/347 - 0s - loss: 0.5602 - accuracy: 0.7061\n",
      "Epoch 70/200\n",
      "347/347 - 0s - loss: 0.5503 - accuracy: 0.7349\n",
      "Epoch 71/200\n",
      "347/347 - 0s - loss: 0.5607 - accuracy: 0.7032\n",
      "Epoch 72/200\n",
      "347/347 - 0s - loss: 0.5566 - accuracy: 0.7118\n",
      "Epoch 73/200\n",
      "347/347 - 0s - loss: 0.5575 - accuracy: 0.7176\n",
      "Epoch 74/200\n",
      "347/347 - 0s - loss: 0.5443 - accuracy: 0.7464\n",
      "Epoch 75/200\n",
      "347/347 - 0s - loss: 0.5460 - accuracy: 0.7176\n",
      "Epoch 76/200\n",
      "347/347 - 0s - loss: 0.5451 - accuracy: 0.7349\n",
      "Epoch 77/200\n",
      "347/347 - 0s - loss: 0.5433 - accuracy: 0.7233\n",
      "Epoch 78/200\n",
      "347/347 - 0s - loss: 0.5405 - accuracy: 0.7233\n",
      "Epoch 79/200\n",
      "347/347 - 0s - loss: 0.5380 - accuracy: 0.7262\n",
      "Epoch 80/200\n",
      "347/347 - 0s - loss: 0.5388 - accuracy: 0.7464\n",
      "Epoch 81/200\n",
      "347/347 - 0s - loss: 0.5334 - accuracy: 0.7233\n",
      "Epoch 82/200\n",
      "347/347 - 0s - loss: 0.5401 - accuracy: 0.7176\n",
      "Epoch 83/200\n",
      "347/347 - 0s - loss: 0.5465 - accuracy: 0.7118\n",
      "Epoch 84/200\n",
      "347/347 - 0s - loss: 0.5326 - accuracy: 0.7493\n",
      "Epoch 85/200\n",
      "347/347 - 0s - loss: 0.5254 - accuracy: 0.7637\n",
      "Epoch 86/200\n",
      "347/347 - 0s - loss: 0.5244 - accuracy: 0.7522\n",
      "Epoch 87/200\n",
      "347/347 - 0s - loss: 0.5233 - accuracy: 0.7493\n",
      "Epoch 88/200\n",
      "347/347 - 0s - loss: 0.5206 - accuracy: 0.7493\n",
      "Epoch 89/200\n",
      "347/347 - 0s - loss: 0.5193 - accuracy: 0.7233\n",
      "Epoch 90/200\n",
      "347/347 - 0s - loss: 0.5189 - accuracy: 0.7579\n",
      "Epoch 91/200\n",
      "347/347 - 0s - loss: 0.5203 - accuracy: 0.7435\n",
      "Epoch 92/200\n",
      "347/347 - 0s - loss: 0.5122 - accuracy: 0.7550\n",
      "Epoch 93/200\n",
      "347/347 - 0s - loss: 0.5108 - accuracy: 0.7579\n",
      "Epoch 94/200\n",
      "347/347 - 0s - loss: 0.5142 - accuracy: 0.7637\n",
      "Epoch 95/200\n",
      "347/347 - 0s - loss: 0.5093 - accuracy: 0.7550\n",
      "Epoch 96/200\n",
      "347/347 - 0s - loss: 0.5063 - accuracy: 0.7723\n",
      "Epoch 97/200\n",
      "347/347 - 0s - loss: 0.5116 - accuracy: 0.7493\n",
      "Epoch 98/200\n",
      "347/347 - 0s - loss: 0.4986 - accuracy: 0.7637\n",
      "Epoch 99/200\n",
      "347/347 - 0s - loss: 0.5089 - accuracy: 0.7550\n",
      "Epoch 100/200\n",
      "347/347 - 0s - loss: 0.4976 - accuracy: 0.7781\n",
      "Epoch 101/200\n",
      "347/347 - 0s - loss: 0.5003 - accuracy: 0.7522\n",
      "Epoch 102/200\n",
      "347/347 - 0s - loss: 0.5028 - accuracy: 0.7608\n",
      "Epoch 103/200\n",
      "347/347 - 0s - loss: 0.4991 - accuracy: 0.7666\n",
      "Epoch 104/200\n",
      "347/347 - 0s - loss: 0.4992 - accuracy: 0.7752\n",
      "Epoch 105/200\n",
      "347/347 - 0s - loss: 0.4948 - accuracy: 0.7752\n",
      "Epoch 106/200\n",
      "347/347 - 0s - loss: 0.4864 - accuracy: 0.7810\n",
      "Epoch 107/200\n",
      "347/347 - 0s - loss: 0.4949 - accuracy: 0.7839\n",
      "Epoch 108/200\n",
      "347/347 - 0s - loss: 0.5069 - accuracy: 0.7464\n",
      "Epoch 109/200\n",
      "347/347 - 0s - loss: 0.5061 - accuracy: 0.7435\n",
      "Epoch 110/200\n",
      "347/347 - 0s - loss: 0.4852 - accuracy: 0.7723\n",
      "Epoch 111/200\n",
      "347/347 - 0s - loss: 0.4851 - accuracy: 0.7752\n",
      "Epoch 112/200\n",
      "347/347 - 0s - loss: 0.4776 - accuracy: 0.8012\n",
      "Epoch 113/200\n",
      "347/347 - 0s - loss: 0.4748 - accuracy: 0.7954\n",
      "Epoch 114/200\n",
      "347/347 - 0s - loss: 0.4870 - accuracy: 0.7781\n",
      "Epoch 115/200\n",
      "347/347 - 0s - loss: 0.4741 - accuracy: 0.7867\n",
      "Epoch 116/200\n",
      "347/347 - 0s - loss: 0.4797 - accuracy: 0.7781\n",
      "Epoch 117/200\n",
      "347/347 - 0s - loss: 0.4798 - accuracy: 0.7896\n",
      "Epoch 118/200\n",
      "347/347 - 0s - loss: 0.4700 - accuracy: 0.8069\n",
      "Epoch 119/200\n",
      "347/347 - 0s - loss: 0.4783 - accuracy: 0.7752\n",
      "Epoch 120/200\n",
      "347/347 - 0s - loss: 0.4694 - accuracy: 0.7781\n",
      "Epoch 121/200\n",
      "347/347 - 0s - loss: 0.4710 - accuracy: 0.7723\n",
      "Epoch 122/200\n",
      "347/347 - 0s - loss: 0.4647 - accuracy: 0.7925\n",
      "Epoch 123/200\n",
      "347/347 - 0s - loss: 0.4653 - accuracy: 0.7781\n",
      "Epoch 124/200\n",
      "347/347 - 0s - loss: 0.4565 - accuracy: 0.8127\n",
      "Epoch 125/200\n",
      "347/347 - 0s - loss: 0.4597 - accuracy: 0.8012\n",
      "Epoch 126/200\n",
      "347/347 - 0s - loss: 0.4525 - accuracy: 0.7925\n",
      "Epoch 127/200\n",
      "347/347 - 0s - loss: 0.4497 - accuracy: 0.8156\n",
      "Epoch 128/200\n",
      "347/347 - 0s - loss: 0.4563 - accuracy: 0.7925\n",
      "Epoch 129/200\n",
      "347/347 - 0s - loss: 0.4495 - accuracy: 0.8127\n",
      "Epoch 130/200\n",
      "347/347 - 0s - loss: 0.4513 - accuracy: 0.8069\n",
      "Epoch 131/200\n",
      "347/347 - 0s - loss: 0.4505 - accuracy: 0.7954\n",
      "Epoch 132/200\n",
      "347/347 - 0s - loss: 0.4405 - accuracy: 0.8329\n",
      "Epoch 133/200\n",
      "347/347 - 0s - loss: 0.4368 - accuracy: 0.7954\n",
      "Epoch 134/200\n",
      "347/347 - 0s - loss: 0.4432 - accuracy: 0.8040\n",
      "Epoch 135/200\n",
      "347/347 - 0s - loss: 0.4368 - accuracy: 0.8156\n",
      "Epoch 136/200\n",
      "347/347 - 0s - loss: 0.4444 - accuracy: 0.8040\n"
     ]
    },
    {
     "name": "stdout",
     "output_type": "stream",
     "text": [
      "Epoch 137/200\n",
      "347/347 - 0s - loss: 0.4415 - accuracy: 0.8012\n",
      "Epoch 138/200\n",
      "347/347 - 0s - loss: 0.4344 - accuracy: 0.8098\n",
      "Epoch 139/200\n",
      "347/347 - 0s - loss: 0.4299 - accuracy: 0.8242\n",
      "Epoch 140/200\n",
      "347/347 - 0s - loss: 0.4309 - accuracy: 0.8184\n",
      "Epoch 141/200\n",
      "347/347 - 0s - loss: 0.4247 - accuracy: 0.8213\n",
      "Epoch 142/200\n",
      "347/347 - 0s - loss: 0.4263 - accuracy: 0.8069\n",
      "Epoch 143/200\n",
      "347/347 - 0s - loss: 0.4259 - accuracy: 0.8156\n",
      "Epoch 144/200\n",
      "347/347 - 0s - loss: 0.4432 - accuracy: 0.7839\n",
      "Epoch 145/200\n",
      "347/347 - 0s - loss: 0.4533 - accuracy: 0.7637\n",
      "Epoch 146/200\n",
      "347/347 - 0s - loss: 0.4462 - accuracy: 0.7867\n",
      "Epoch 147/200\n",
      "347/347 - 0s - loss: 0.4318 - accuracy: 0.8069\n",
      "Epoch 148/200\n",
      "347/347 - 0s - loss: 0.4239 - accuracy: 0.8300\n",
      "Epoch 149/200\n",
      "347/347 - 0s - loss: 0.4367 - accuracy: 0.7867\n",
      "Epoch 150/200\n",
      "347/347 - 0s - loss: 0.4287 - accuracy: 0.8069\n",
      "Epoch 151/200\n",
      "347/347 - 0s - loss: 0.4122 - accuracy: 0.8530\n",
      "Epoch 152/200\n",
      "347/347 - 0s - loss: 0.4126 - accuracy: 0.8300\n",
      "Epoch 153/200\n",
      "347/347 - 0s - loss: 0.4181 - accuracy: 0.8098\n",
      "Epoch 154/200\n",
      "347/347 - 0s - loss: 0.4024 - accuracy: 0.8415\n",
      "Epoch 155/200\n",
      "347/347 - 0s - loss: 0.4059 - accuracy: 0.8271\n",
      "Epoch 156/200\n",
      "347/347 - 0s - loss: 0.3978 - accuracy: 0.8444\n",
      "Epoch 157/200\n",
      "347/347 - 0s - loss: 0.4035 - accuracy: 0.8271\n",
      "Epoch 158/200\n",
      "347/347 - 0s - loss: 0.4016 - accuracy: 0.8271\n",
      "Epoch 159/200\n",
      "347/347 - 0s - loss: 0.3988 - accuracy: 0.8386\n",
      "Epoch 160/200\n",
      "347/347 - 0s - loss: 0.3997 - accuracy: 0.8242\n",
      "Epoch 161/200\n",
      "347/347 - 0s - loss: 0.3926 - accuracy: 0.8271\n",
      "Epoch 162/200\n",
      "347/347 - 0s - loss: 0.4006 - accuracy: 0.8156\n",
      "Epoch 163/200\n",
      "347/347 - 0s - loss: 0.3897 - accuracy: 0.8444\n",
      "Epoch 164/200\n",
      "347/347 - 0s - loss: 0.3908 - accuracy: 0.8271\n",
      "Epoch 165/200\n",
      "347/347 - 0s - loss: 0.3932 - accuracy: 0.8473\n",
      "Epoch 166/200\n",
      "347/347 - 0s - loss: 0.3895 - accuracy: 0.8329\n",
      "Epoch 167/200\n",
      "347/347 - 0s - loss: 0.3816 - accuracy: 0.8444\n",
      "Epoch 168/200\n",
      "347/347 - 0s - loss: 0.3900 - accuracy: 0.8357\n",
      "Epoch 169/200\n",
      "347/347 - 0s - loss: 0.3824 - accuracy: 0.8415\n",
      "Epoch 170/200\n",
      "347/347 - 0s - loss: 0.3869 - accuracy: 0.8213\n",
      "Epoch 171/200\n",
      "347/347 - 0s - loss: 0.3815 - accuracy: 0.8415\n",
      "Epoch 172/200\n",
      "347/347 - 0s - loss: 0.3786 - accuracy: 0.8386\n",
      "Epoch 173/200\n",
      "347/347 - 0s - loss: 0.3732 - accuracy: 0.8386\n",
      "Epoch 174/200\n",
      "347/347 - 0s - loss: 0.3689 - accuracy: 0.8588\n",
      "Epoch 175/200\n",
      "347/347 - 0s - loss: 0.3712 - accuracy: 0.8501\n",
      "Epoch 176/200\n",
      "347/347 - 0s - loss: 0.3662 - accuracy: 0.8357\n",
      "Epoch 177/200\n",
      "347/347 - 0s - loss: 0.3652 - accuracy: 0.8559\n",
      "Epoch 178/200\n",
      "347/347 - 0s - loss: 0.3736 - accuracy: 0.8473\n",
      "Epoch 179/200\n",
      "347/347 - 0s - loss: 0.3646 - accuracy: 0.8501\n",
      "Epoch 180/200\n",
      "347/347 - 0s - loss: 0.3824 - accuracy: 0.8415\n",
      "Epoch 181/200\n",
      "347/347 - 0s - loss: 0.3688 - accuracy: 0.8501\n",
      "Epoch 182/200\n",
      "347/347 - 0s - loss: 0.3666 - accuracy: 0.8559\n",
      "Epoch 183/200\n",
      "347/347 - 0s - loss: 0.3637 - accuracy: 0.8530\n",
      "Epoch 184/200\n",
      "347/347 - 0s - loss: 0.3612 - accuracy: 0.8501\n",
      "Epoch 185/200\n",
      "347/347 - 0s - loss: 0.3585 - accuracy: 0.8617\n",
      "Epoch 186/200\n",
      "347/347 - 0s - loss: 0.3634 - accuracy: 0.8357\n",
      "Epoch 187/200\n",
      "347/347 - 0s - loss: 0.3841 - accuracy: 0.8213\n",
      "Epoch 188/200\n",
      "347/347 - 0s - loss: 0.3659 - accuracy: 0.8415\n",
      "Epoch 189/200\n",
      "347/347 - 0s - loss: 0.3642 - accuracy: 0.8444\n",
      "Epoch 190/200\n",
      "347/347 - 0s - loss: 0.3485 - accuracy: 0.8530\n",
      "Epoch 191/200\n",
      "347/347 - 0s - loss: 0.3496 - accuracy: 0.8617\n",
      "Epoch 192/200\n",
      "347/347 - 0s - loss: 0.3532 - accuracy: 0.8559\n",
      "Epoch 193/200\n",
      "347/347 - 0s - loss: 0.3543 - accuracy: 0.8559\n",
      "Epoch 194/200\n",
      "347/347 - 0s - loss: 0.3387 - accuracy: 0.8646\n",
      "Epoch 195/200\n",
      "347/347 - 0s - loss: 0.3495 - accuracy: 0.8501\n",
      "Epoch 196/200\n",
      "347/347 - 0s - loss: 0.3476 - accuracy: 0.8473\n",
      "Epoch 197/200\n",
      "347/347 - 0s - loss: 0.3349 - accuracy: 0.8559\n",
      "Epoch 198/200\n",
      "347/347 - 0s - loss: 0.3291 - accuracy: 0.8703\n",
      "Epoch 199/200\n",
      "347/347 - 0s - loss: 0.3281 - accuracy: 0.8703\n",
      "Epoch 200/200\n",
      "347/347 - 0s - loss: 0.3262 - accuracy: 0.8732\n"
     ]
    },
    {
     "data": {
      "text/plain": [
       "<tensorflow.python.keras.callbacks.History at 0x1c7be98f240>"
      ]
     },
     "execution_count": 23,
     "metadata": {},
     "output_type": "execute_result"
    }
   ],
   "source": [
    "model.fit(\n",
    "    X_train_scaled,\n",
    "    y_train_categorical,\n",
    "    epochs=200,\n",
    "    shuffle=True,\n",
    "    verbose=2\n",
    ")"
   ]
  },
  {
   "cell_type": "markdown",
   "metadata": {},
   "source": [
    "## Quantify our Trained Model"
   ]
  },
  {
   "cell_type": "code",
   "execution_count": 24,
   "metadata": {
    "scrolled": true
   },
   "outputs": [
    {
     "name": "stdout",
     "output_type": "stream",
     "text": [
      "116/1 - 0s - loss: 1.7537 - accuracy: 0.5000\n",
      "Normal Neural Network - Loss: 1.344303295530122, Accuracy: 0.5\n"
     ]
    }
   ],
   "source": [
    "model_loss, model_accuracy = model.evaluate(\n",
    "    X_test_scaled, y_test_categorical, verbose=2)\n",
    "print(\n",
    "    f\"Normal Neural Network - Loss: {model_loss}, Accuracy: {model_accuracy}\")"
   ]
  },
  {
   "cell_type": "code",
   "execution_count": 25,
   "metadata": {},
   "outputs": [
    {
     "data": {
      "text/plain": [
       "Index(['MA_yards_gained_x', 'MA_turnovers_x', 'MA_rush_attempts_x',\n",
       "       'MA_pass_attempts_x', 'MA_yards_gained_y', 'MA_turnovers_y',\n",
       "       'MA_rush_attempts_y', 'MA_pass_attempts_y'],\n",
       "      dtype='object')"
      ]
     },
     "execution_count": 25,
     "metadata": {},
     "output_type": "execute_result"
    }
   ],
   "source": [
    "X.columns"
   ]
  },
  {
   "cell_type": "markdown",
   "metadata": {
    "slideshow": {
     "slide_type": "subslide"
    }
   },
   "source": [
    "## Make Predictions -- future plans, be able to make predictions on specific games"
   ]
  },
  {
   "cell_type": "code",
   "execution_count": 26,
   "metadata": {
    "nbgrader": {
     "grade": false,
     "grade_id": "cell-f97eb3e97245187b",
     "locked": false,
     "schema_version": 1,
     "solution": true
    },
    "scrolled": true,
    "slideshow": {
     "slide_type": "fragment"
    }
   },
   "outputs": [],
   "source": [
    "# encoded_predictions = model.predict_classes(X_test_scaled[:])\n",
    "# prediction_labels = label_encoder.inverse_transform(encoded_predictions)\n"
   ]
  },
  {
   "cell_type": "code",
   "execution_count": 27,
   "metadata": {
    "scrolled": true
   },
   "outputs": [],
   "source": [
    "# print(f\"Predicted classes: {prediction_labels}\")\n",
    "# print(f\"Actual Labels: {list(y_test1[:])}\")"
   ]
  },
  {
   "cell_type": "code",
   "execution_count": 28,
   "metadata": {
    "scrolled": true
   },
   "outputs": [],
   "source": [
    "# print(f\"Predicted classes: {prediction_labels}\")\n",
    "# print(f\"Actual Labels: {list(y_test[:])}\")"
   ]
  },
  {
   "cell_type": "code",
   "execution_count": 29,
   "metadata": {
    "scrolled": true
   },
   "outputs": [],
   "source": [
    "# test = pd.read_csv('test.csv')\n",
    "# test.head()\n",
    "# then do pre-processing "
   ]
  },
  {
   "cell_type": "code",
   "execution_count": 30,
   "metadata": {
    "scrolled": true
   },
   "outputs": [],
   "source": [
    "# print(model.summary())"
   ]
  },
  {
   "cell_type": "code",
   "execution_count": 32,
   "metadata": {
    "scrolled": true
   },
   "outputs": [],
   "source": [
    "# model.to_yaml()"
   ]
  },
  {
   "cell_type": "code",
   "execution_count": 33,
   "metadata": {
    "scrolled": true
   },
   "outputs": [],
   "source": [
    "# model.outputs"
   ]
  },
  {
   "cell_type": "code",
   "execution_count": 34,
   "metadata": {
    "scrolled": true
   },
   "outputs": [],
   "source": [
    "# model.inputs"
   ]
  },
  {
   "cell_type": "code",
   "execution_count": null,
   "metadata": {
    "scrolled": true
   },
   "outputs": [],
   "source": []
  }
 ],
 "metadata": {
  "kernelspec": {
   "display_name": "Python 3",
   "language": "python",
   "name": "python3"
  },
  "language_info": {
   "codemirror_mode": {
    "name": "ipython",
    "version": 3
   },
   "file_extension": ".py",
   "mimetype": "text/x-python",
   "name": "python",
   "nbconvert_exporter": "python",
   "pygments_lexer": "ipython3",
   "version": "3.7.1"
  },
  "varInspector": {
   "cols": {
    "lenName": 16,
    "lenType": 16,
    "lenVar": 40
   },
   "kernels_config": {
    "python": {
     "delete_cmd_postfix": "",
     "delete_cmd_prefix": "del ",
     "library": "var_list.py",
     "varRefreshCmd": "print(var_dic_list())"
    },
    "r": {
     "delete_cmd_postfix": ") ",
     "delete_cmd_prefix": "rm(",
     "library": "var_list.r",
     "varRefreshCmd": "cat(var_dic_list()) "
    }
   },
   "types_to_exclude": [
    "module",
    "function",
    "builtin_function_or_method",
    "instance",
    "_Feature"
   ],
   "window_display": false
  }
 },
 "nbformat": 4,
 "nbformat_minor": 2
}
